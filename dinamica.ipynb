{
  "nbformat": 4,
  "nbformat_minor": 0,
  "metadata": {
    "colab": {
      "provenance": [],
      "collapsed_sections": [],
      "authorship_tag": "ABX9TyNG7ECLKxqFNp7HOLoXRx3f",
      "include_colab_link": true
    },
    "kernelspec": {
      "name": "python3",
      "display_name": "Python 3"
    },
    "language_info": {
      "name": "python"
    }
  },
  "cells": [
    {
      "cell_type": "markdown",
      "metadata": {
        "id": "view-in-github",
        "colab_type": "text"
      },
      "source": [
        "<a href=\"https://colab.research.google.com/github/emky1993/novo-repositorio/blob/main/dinamica.ipynb\" target=\"_parent\"><img src=\"https://colab.research.google.com/assets/colab-badge.svg\" alt=\"Open In Colab\"/></a>"
      ]
    },
    {
      "cell_type": "code",
      "source": [
        "#Exercício 1\n",
        "'''\n",
        "x = 5 Int\n",
        "x = 5.0 Float\n",
        "x = 5.5 Float\n",
        "x = 'DNC' String\n",
        "x = 1/2 Float\n",
        "x = 0.5*2 Float\n",
        "x = 2**4 Int\n",
        "x = 2+4 Int\n",
        "x = 1000000000 Int\n",
        "'''\n",
        "x = int(input('Digite um número inteiro: '))\n",
        "print(type(x))\n",
        "x = float(input('Digite um número float: '))\n",
        "print(type(x))\n",
        "x = (input('Digite um texto: '))\n",
        "print(type(x))\n",
        "x = (input('Digite algo: '))\n",
        "print(type(x))"
      ],
      "metadata": {
        "colab": {
          "base_uri": "https://localhost:8080/"
        },
        "id": "U8Rdavg1iBGI",
        "outputId": "90fbb208-daf8-43c8-c670-64ad5d704f3b"
      },
      "execution_count": null,
      "outputs": [
        {
          "output_type": "stream",
          "name": "stdout",
          "text": [
            "Digite um número inteiro: 5\n",
            "<class 'int'>\n",
            "Digite um número float: 1.5\n",
            "<class 'float'>\n",
            "Digite um texto: jisfisdibsdiufs\n",
            "<class 'str'>\n",
            "Digite algo: 10\n",
            "<class 'str'>\n"
          ]
        }
      ]
    },
    {
      "cell_type": "code",
      "source": [
        "#Exercício 2\n",
        "x = 'DS06 - DNC'\n",
        "print('-'*50)\n",
        "print('-'*50)\n",
        "print(' '*(int((50-len(x))/2))+x+' '*(int((50-len(x))/2)))\n",
        "print('-'*50)\n",
        "print('-'*50)"
      ],
      "metadata": {
        "colab": {
          "base_uri": "https://localhost:8080/"
        },
        "id": "Ngx5GXTXlbjo",
        "outputId": "9ece5db7-5eeb-4597-b1d5-02cae30de69f"
      },
      "execution_count": null,
      "outputs": [
        {
          "output_type": "stream",
          "name": "stdout",
          "text": [
            "--------------------------------------------------\n",
            "--------------------------------------------------\n",
            "                    DS06 - DNC                    \n",
            "--------------------------------------------------\n",
            "--------------------------------------------------\n"
          ]
        }
      ]
    },
    {
      "cell_type": "code",
      "source": [
        "# Exercício 3\n",
        "salario_cientista_de_dados = 10000.00\n",
        "parcela_bmw = 2500.45\n",
        "parcela_apartamento = 3500.50\n",
        "veterinario_romeuzinho = 500.00\n",
        "luz = 100.80\n",
        "agua = 80.35\n",
        "condominio = 800.44\n",
        "gas = 150.65\n",
        "print('*'*100)\n",
        "print(f'Seu salário de cientista de dados jr é de R${salario_cientista_de_dados:.2f} e seus gastos estão dispostos a seguir')\n",
        "print('Parcela da BMW = ',parcela_bmw)\n",
        "print('Parcela do apartamento =',parcela_apartamento)\n",
        "print('Veterinário do Romeuzinho =',veterinario_romeuzinho)\n",
        "print('Conta de luz =',luz)\n",
        "print('Conta de agua =',agua)\n",
        "print('Conta de condominio =',condominio)\n",
        "print('Conta de gás =',gas)\n",
        "saldo = salario_cientista_de_dados - (parcela_bmw+parcela_apartamento+veterinario_romeuzinho+luz+agua+condominio+gas)\n",
        "print('*'*100)\n",
        "print(f'O valor disponível para colocar na poupança é de: R${saldo:.2f}')"
      ],
      "metadata": {
        "colab": {
          "base_uri": "https://localhost:8080/"
        },
        "id": "SOczoOzFmzjS",
        "outputId": "349542f9-7779-4184-a027-41749b8da2b4"
      },
      "execution_count": null,
      "outputs": [
        {
          "output_type": "stream",
          "name": "stdout",
          "text": [
            "****************************************************************************************************\n",
            "Seu salário de cientista de dados jr é de R$10000.00 e seus gastos estão dispostos a seguir\n",
            "Parcela da BMW =  2500.45\n",
            "Parcela do apartamento = 3500.5\n",
            "Veterinário do Romeuzinho = 500.0\n",
            "Conta de luz = 100.8\n",
            "Conta de agua = 80.35\n",
            "Conta de condominio = 800.44\n",
            "Conta de gás = 150.65\n",
            "****************************************************************************************************\n",
            "O valor disponível para colocar na poupança é de: R$2366.81\n"
          ]
        }
      ]
    },
    {
      "cell_type": "code",
      "source": [
        "#Exercício 4\n",
        "formacao_de_dados = 20000.00\n",
        "formacao_de_projetos = 15000.00\n",
        "formacao_de_marketing = 13000.00\n",
        "formacao_de_produto = 18000.00\n",
        "formacao_de_tecnologia = 19000.00\n",
        "i = True\n",
        "while i == True:  \n",
        "  curso = input('Qual curso você quer escolher?\\n1 = formacao_de_dados.\\n2 = formacao_de_projetos\\n3 = formacao_de_marketing\\n4 = formacao_de_produto\\n5 = formacao_de_tecnologia\\n')\n",
        "  if curso =='1':\n",
        "    print(f'Parabéns, você escolheu a Formação em Dados no valor de R${formacao_de_dados:.2f}')\n",
        "    break\n",
        "  elif curso =='2':\n",
        "    print(f'Parabéns, você escolheu a Formação em Projetos no valor de R${formacao_de_projetos:.2f}')\n",
        "    break\n",
        "  elif curso =='3':\n",
        "    print(f'Parabéns, você escolheu a Formação em Marketing no valor de R${formacao_de_marketing:.2f}')\n",
        "    break\n",
        "  elif curso =='4':\n",
        "    print(f'Parabéns, você escolheu a Formação em Produto no valor de R${formacao_de_produto:.2f}')\n",
        "    break\n",
        "  elif curso =='5':\n",
        "    print(f'Parabéns, você escolheu a Formação em Tecnologia no valor de R${formacao_de_tecnologia:.2f}') \n",
        "    break\n",
        "  else:\n",
        "    print('Digite um valor correspondente a um curso de nossas formações')"
      ],
      "metadata": {
        "colab": {
          "base_uri": "https://localhost:8080/"
        },
        "id": "tebuMaLZqGgf",
        "outputId": "e5469a8d-b27a-4a66-ae4f-eb58b4851db6"
      },
      "execution_count": null,
      "outputs": [
        {
          "output_type": "stream",
          "name": "stdout",
          "text": [
            "Qual curso você quer escolher?\n",
            "1 = formacao_de_dados.\n",
            "2 = formacao_de_projetos\n",
            "3 = formacao_de_marketing\n",
            "4 = formacao_de_produto\n",
            "5 = formacao_de_tecnologia\n",
            "1\n",
            "Parabéns, você escolheu a Formação em Dados no valor de R$20000.00\n"
          ]
        }
      ]
    },
    {
      "cell_type": "code",
      "source": [
        "#Exercício 5\n",
        "qtd_dados = int(input('Digite a quantidade de compras do curso de dados: '))\n",
        "qtd_projetos = int(input('Digite a quantidade de compras do curso de projetos: '))\n",
        "qtd_marketing = int(input('Digite a quantidade de compras do curso de marketing: '))\n",
        "qtd_produto = int(input('Digite a quantidade de compras do curso de produto: '))\n",
        "qtd_tecnologia = int(input('Digite a quantidade de compras do curso de tecnologia: '))\n",
        "total_compras = qtd_dados + qtd_projetos + qtd_marketing + qtd_produto + qtd_tecnologia\n",
        "receita = qtd_dados*formacao_de_dados + qtd_projetos*formacao_de_projetos + qtd_marketing*formacao_de_marketing + qtd_produto*formacao_de_produto + qtd_tecnologia*formacao_de_tecnologia\n",
        "receita_media = receita/total_compras\n",
        "print(f'Receita total: R${receita:.2f}')\n",
        "print(f'Ticket médio: R${receita_media:.2f}')\n",
        "if receita >= 2000000.0:\n",
        "  print('Parabéns!! A DNC bateu a meta do mês')\n",
        "else:\n",
        "  print('Esse mês não batemos a meta, porém mês que vem vamos vir mais forte pra recuperar!!!')"
      ],
      "metadata": {
        "colab": {
          "base_uri": "https://localhost:8080/"
        },
        "id": "tyrMu5Dat9wz",
        "outputId": "e0621196-6599-49de-f99b-cbddecf1aca9"
      },
      "execution_count": null,
      "outputs": [
        {
          "output_type": "stream",
          "name": "stdout",
          "text": [
            "Digite a quantidade de compras do curso de dados: 40\n",
            "Digite a quantidade de compras do curso de dados: 50\n",
            "Digite a quantidade de compras do curso de dados: 10\n",
            "Digite a quantidade de compras do curso de dados: 70\n",
            "Digite a quantidade de compras do curso de dados: 1\n",
            "Receita total: R$2959000.00\n",
            "Ticket médio: R$17304.09\n",
            "Parabéns!! A DNC bateu a meta do mês\n"
          ]
        }
      ]
    },
    {
      "cell_type": "code",
      "source": [
        "#Exercício 6\n",
        "x = int(input('Digite o em qual posição o somatório sera finalizado: '))\n",
        "s = 0\n",
        "for i in range(1,x+1):\n",
        "  s += i\n",
        "print(s)  \n"
      ],
      "metadata": {
        "colab": {
          "base_uri": "https://localhost:8080/"
        },
        "id": "hgYRgTyEwDEO",
        "outputId": "37c20285-c0e7-4e0c-9173-c03b870f95ed"
      },
      "execution_count": null,
      "outputs": [
        {
          "output_type": "stream",
          "name": "stdout",
          "text": [
            "Digite o em qual posição o somatório sera finalizado: 10\n",
            "55\n"
          ]
        }
      ]
    },
    {
      "cell_type": "code",
      "source": [
        "#Exercício 7\n",
        "a = True\n",
        "print('p = Pula para próxima música\\nqualquer outra tecla = Fechar aplicativo ')\n",
        "while a == True:\n",
        "  x = input('')\n",
        "  if x =='p':\n",
        "    print('Próxima música')\n",
        "  else:\n",
        "    print('Fechando o app')\n",
        "    print('Até a próxima')\n",
        "    break"
      ],
      "metadata": {
        "colab": {
          "base_uri": "https://localhost:8080/"
        },
        "id": "aSn545MNyJZJ",
        "outputId": "f4816c95-fa6b-4bff-f20b-c747bad2d4bf"
      },
      "execution_count": null,
      "outputs": [
        {
          "output_type": "stream",
          "name": "stdout",
          "text": [
            "p = Pula para próxima música\n",
            "qualquer outra tecla = Fechar aplicativo \n",
            "p\n",
            "Próxima música\n",
            "p\n",
            "Próxima música\n",
            "p\n",
            "Próxima música\n",
            "\n",
            "Fechando o app\n",
            "Até a próxima\n"
          ]
        }
      ]
    },
    {
      "cell_type": "code",
      "source": [
        "#Exercício 8\n",
        "nomes = []\n",
        "x = input('Informe nome: ')\n",
        "nomes.append(x)\n",
        "y = input('Informe nome: ')\n",
        "nomes.append(y)\n",
        "z = input('Informe nome: ')\n",
        "nomes.append(z)\n",
        "for i in nomes:\n",
        "  print(f'Parabens por toda sua ajuda no projeto, você está sendo essencial para o resultado que estamos atingindo,{i}')\n",
        "  "
      ],
      "metadata": {
        "colab": {
          "base_uri": "https://localhost:8080/"
        },
        "id": "f2MR6XIk0DXh",
        "outputId": "29479cd5-8ac6-4b2f-c6a9-46a035dcac96"
      },
      "execution_count": null,
      "outputs": [
        {
          "output_type": "stream",
          "name": "stdout",
          "text": [
            "Informe nome: Erick\n",
            "Informe nome: João\n",
            "Informe nome: Luiz\n",
            "Parabens por toda sua ajuda no projeto, você está sendo essencial para o resultado que estamos atingindo,Erick\n",
            "Parabens por toda sua ajuda no projeto, você está sendo essencial para o resultado que estamos atingindo,João\n",
            "Parabens por toda sua ajuda no projeto, você está sendo essencial para o resultado que estamos atingindo,Luiz\n"
          ]
        }
      ]
    },
    {
      "cell_type": "code",
      "source": [
        "#Exercício 9\n",
        "notas = []\n",
        "a = True\n",
        "soma = 0\n",
        "while a == True:\n",
        "  x = int(input('Digite o valor da cédula ou 0 caso finalizado: '))\n",
        "  if x == 0:\n",
        "    for i in notas:\n",
        "      soma +=i\n",
        "    print(f'O valor total é : R${soma:.2f}')\n",
        "    break\n",
        "  elif x != 2 and x != 5 and x != 10 and x != 20 and x != 50 and x != 100 and x !=200:\n",
        "    print('Valor inválido')\n",
        "  else:\n",
        "    notas.append(x)\n",
        "print(notas)"
      ],
      "metadata": {
        "colab": {
          "base_uri": "https://localhost:8080/"
        },
        "id": "C4d9aY_01uti",
        "outputId": "e6b622fa-8407-46b6-d60f-2460458b8d8a"
      },
      "execution_count": null,
      "outputs": [
        {
          "output_type": "stream",
          "name": "stdout",
          "text": [
            "Digite o valor da cédula ou 0 caso finalizado: 1\n",
            "Valor inválido\n",
            "Digite o valor da cédula ou 0 caso finalizado: 5\n",
            "Digite o valor da cédula ou 0 caso finalizado: 4\n",
            "Valor inválido\n",
            "Digite o valor da cédula ou 0 caso finalizado: 2\n",
            "Digite o valor da cédula ou 0 caso finalizado: 200\n",
            "Digite o valor da cédula ou 0 caso finalizado: 100\n",
            "Digite o valor da cédula ou 0 caso finalizado: 50\n",
            "Digite o valor da cédula ou 0 caso finalizado: 20\n",
            "Digite o valor da cédula ou 0 caso finalizado: 2\n",
            "Digite o valor da cédula ou 0 caso finalizado: 2\n",
            "Digite o valor da cédula ou 0 caso finalizado: 5\n",
            "Digite o valor da cédula ou 0 caso finalizado: 0\n",
            "O valor total é : R$386.00\n",
            "[5, 2, 200, 100, 50, 20, 2, 2, 5]\n"
          ]
        }
      ]
    },
    {
      "cell_type": "code",
      "source": [
        "#Exercício 10\n",
        "alunos = []\n",
        "aluno = {}\n",
        "print()\n",
        "for i in range(1,5+1):\n",
        "  aluno['nome'] = input('Digite nome: ')\n",
        "  aluno['rid'] = input('Digite RID: ')\n",
        "  aluno['idade'] = input('Digite a idade: ')\n",
        "  aluno['cidade'] = input('Digite a cidade: ')\n",
        "  aluno['cargo'] = input('Digite o cargo no time de projeto: ')\n",
        "  alunos.append(aluno.copy())\n",
        "for i in alunos:\n",
        "  for k,v in i.items():\n",
        "    print(f'{k}: {v}')\n",
        "  print()\n"
      ],
      "metadata": {
        "colab": {
          "base_uri": "https://localhost:8080/"
        },
        "id": "9q7Ohscd4Sky",
        "outputId": "72ad2bf5-1486-4991-86d8-ecf42261ff11"
      },
      "execution_count": null,
      "outputs": [
        {
          "output_type": "stream",
          "name": "stdout",
          "text": [
            "Digite nome: Erick\n",
            "Digite RID: 22\n",
            "Digite a idade: 29\n",
            "Digite a cidade: sjc\n",
            "Digite o cargo no time de projeto: PO\n",
            "Digite nome: joao\n",
            "Digite RID: 123\n",
            "Digite a idade: 21\n",
            "Digite a cidade: sjc\n",
            "Digite o cargo no time de projeto: sm\n",
            "nome: Erick\n",
            "rid: 22\n",
            "idade: 29\n",
            "cidade: sjc\n",
            "cargo: PO\n",
            "\n",
            "nome: joao\n",
            "rid: 123\n",
            "idade: 21\n",
            "cidade: sjc\n",
            "cargo: sm\n",
            "\n"
          ]
        }
      ]
    },
    {
      "cell_type": "code",
      "source": [
        "#Exercício 11\n",
        "def soma(x):\n",
        "  s = 0\n",
        "  for n in x:\n",
        "    s += n\n",
        "  print(f'O total é : R${s:.2f}')\n",
        "\n",
        "notas=[]\n",
        "a = True\n",
        "while a == True:\n",
        "  x = float(input('Digite o valor da nota ou 0 para finalizar: '))\n",
        "  if x == 0:\n",
        "    soma(notas)\n",
        "    break\n",
        "  elif x != 2 and x != 5 and x != 10 and x != 20 and x != 50 and x != 100 and x !=200:\n",
        "    print('Valor inválido')\n",
        "  else:\n",
        "    notas.append(x) \n"
      ],
      "metadata": {
        "id": "F1mhPj_86ubN",
        "colab": {
          "base_uri": "https://localhost:8080/"
        },
        "outputId": "39b47b32-88fd-4e32-db1e-35d13a28ead0"
      },
      "execution_count": null,
      "outputs": [
        {
          "output_type": "stream",
          "name": "stdout",
          "text": [
            "Digite o valor da nota ou 0 para finalizar: 5\n",
            "Digite o valor da nota ou 0 para finalizar: 2\n",
            "Digite o valor da nota ou 0 para finalizar: 10\n",
            "Digite o valor da nota ou 0 para finalizar: 0\n",
            "O total é : R$17.00\n"
          ]
        }
      ]
    }
  ]
}